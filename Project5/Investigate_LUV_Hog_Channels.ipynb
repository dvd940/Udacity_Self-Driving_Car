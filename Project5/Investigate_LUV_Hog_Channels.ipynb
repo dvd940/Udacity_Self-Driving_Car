{
 "cells": [
  {
   "cell_type": "markdown",
   "metadata": {},
   "source": [
    "### Determing which hog_channel performs better.\n",
    "\n",
    "In this notebook, I will determine which hog_channel performs better. LUV color space is used. All other feature extraction parameters are unchanged."
   ]
  },
  {
   "cell_type": "code",
   "execution_count": 1,
   "metadata": {
    "collapsed": true
   },
   "outputs": [],
   "source": [
    "from sklearn.preprocessing import StandardScaler\n",
    "from sklearn.model_selection import train_test_split\n",
    "from skimage.feature import hog\n",
    "import time\n",
    "from sklearn.svm import LinearSVC\n",
    "import numpy as np\n",
    "\n",
    "from project_modules.feature_extraction import *\n",
    "from project_modules.model import *\n",
    "\n",
    "%matplotlib inline\n",
    "%load_ext autoreload\n",
    "%autoreload 2"
   ]
  },
  {
   "cell_type": "code",
   "execution_count": 2,
   "metadata": {
    "collapsed": true
   },
   "outputs": [],
   "source": [
    "# Parameters for feature extraction\n",
    "color_space = 'LUV'\n",
    "orient = 9  # HOG orientations\n",
    "pix_per_cell = 8 # HOG pixels per cell\n",
    "cell_per_block = 2 # HOG cells per block\n",
    "spatial_size = (16, 16) # Spatial binning dimensions\n",
    "hist_bins = 16    # Number of histogram bins\n",
    "spatial_feat = True # Spatial features on or off\n",
    "hist_feat = True # Histogram features on or off\n",
    "hog_feat = True # HOG features on or off\n",
    "y_start_stop = [480, None] # Min and max in y to search in slide_window()\n",
    "\n",
    "cars, notcars = get_train_data()"
   ]
  },
  {
   "cell_type": "code",
   "execution_count": 7,
   "metadata": {
    "scrolled": false
   },
   "outputs": [
    {
     "name": "stdout",
     "output_type": "stream",
     "text": [
      "Extracting features for hog_channel: 0\n",
      "40.36 Seconds to extract features...\n",
      "Starting model training\n",
      "\n",
      "31.62 Seconds to train SVC...\n",
      "LUV: 0.9662 (0.0030)\n",
      "\n",
      "=====\n",
      "\n",
      "Extracting features for hog_channel: 1\n",
      "39.24 Seconds to extract features...\n",
      "Starting model training\n",
      "\n",
      "31.49 Seconds to train SVC...\n",
      "LUV: 0.9659 (0.0033)\n",
      "\n",
      "=====\n",
      "\n",
      "Extracting features for hog_channel: 2\n",
      "39.42 Seconds to extract features...\n",
      "Starting model training\n",
      "\n",
      "38.43 Seconds to train SVC...\n",
      "LUV: 0.9494 (0.0025)\n",
      "\n",
      "=====\n",
      "\n",
      "Extracting features for hog_channel: ALL\n",
      "100.18 Seconds to extract features...\n",
      "Starting model training\n",
      "\n",
      "70.93 Seconds to train SVC...\n",
      "LUV: 0.9815 (0.0018)\n",
      "\n",
      "=====\n",
      "\n"
     ]
    }
   ],
   "source": [
    "hog_channels = [0, 1, 2, 'ALL']\n",
    "results=[]\n",
    "hog_channel_name = []\n",
    "\n",
    "for hog_channel in hog_channels:\n",
    "    t=time.time()\n",
    "    print('Extracting features for hog_channel: {}'.format(hog_channel))\n",
    "    car_features = extract_features(cars, color_space=color_space, \n",
    "                        spatial_size=spatial_size, hist_bins=hist_bins, \n",
    "                        orient=orient, pix_per_cell=pix_per_cell, \n",
    "                        cell_per_block=cell_per_block, \n",
    "                        hog_channel=hog_channel, spatial_feat=spatial_feat, \n",
    "                        hist_feat=hist_feat, hog_feat=hog_feat)\n",
    "    notcar_features = extract_features(notcars, color_space=color_space, \n",
    "                            spatial_size=spatial_size, hist_bins=hist_bins, \n",
    "                            orient=orient, pix_per_cell=pix_per_cell, \n",
    "                            cell_per_block=cell_per_block, \n",
    "                            hog_channel=hog_channel, spatial_feat=spatial_feat, \n",
    "                            hist_feat=hist_feat, hog_feat=hog_feat)\n",
    "\n",
    "    X = np.vstack((car_features, notcar_features)).astype(np.float64)\n",
    "    y = np.hstack((np.ones(len(car_features)), np.zeros(len(notcar_features))))\n",
    "    t2 = time.time()\n",
    "    print(round(t2-t, 2), 'Seconds to extract features...\\nStarting model training\\n')\n",
    "    rand_state = np.random.randint(0, 100)\n",
    "    X_train, X_test, y_train, y_test = train_test_split(X, y, test_size=0.2, random_state=rand_state)\n",
    "\n",
    "    t=time.time()\n",
    "    svc_scores = svc_model(X_train, y_train)\n",
    "    t2 = time.time()\n",
    "    print(round(t2-t, 2), 'Seconds to train SVC...')\n",
    "    msg = '{}: {:.4f} ({:.4f})\\n'.format(color_space, svc_scores.mean(), svc_scores.std())\n",
    "    print(msg)\n",
    "    print('=====\\n')\n",
    "    results.append(svc_scores)\n",
    "    hog_channel_name.append(hog_channel)\n",
    "\n"
   ]
  },
  {
   "cell_type": "code",
   "execution_count": 8,
   "metadata": {},
   "outputs": [
    {
     "data": {
      "image/png": "[encoded data removed]",
      "text/plain": [
       "<matplotlib.figure.Figure at 0x221918ca278>"
      ]
     },
     "metadata": {},
     "output_type": "display_data"
    }
   ],
   "source": [
    "# Compare Color Spaces\n",
    "import matplotlib.pyplot as plt\n",
    "fig = plt.figure(figsize=(12,8))\n",
    "fig.suptitle('Hog Channel Accuracy Score Comparison')\n",
    "ax = fig.add_subplot(111)\n",
    "plt.boxplot(results)\n",
    "ax.set_xticklabels(hog_channel_name)\n",
    "plt.show()"
   ]
  },
  {
   "cell_type": "markdown",
   "metadata": {},
   "source": [
    "Based on these results, I will investigate the LUV color space use ALL hog channels further."
   ]
  },
  {
   "cell_type": "code",
   "execution_count": null,
   "metadata": {
    "collapsed": true
   },
   "outputs": [],
   "source": []
  }
 ],
 "metadata": {
  "kernelspec": {
   "display_name": "carnd-term1",
   "language": "python",
   "name": "carnd-term1"
  },
  "language_info": {
   "codemirror_mode": {
    "name": "ipython",
    "version": 3
   },
   "file_extension": ".py",
   "mimetype": "text/x-python",
   "name": "python",
   "nbconvert_exporter": "python",
   "pygments_lexer": "ipython3",
   "version": "3.5.2"
  }
 },
 "nbformat": 4,
 "nbformat_minor": 2
}
