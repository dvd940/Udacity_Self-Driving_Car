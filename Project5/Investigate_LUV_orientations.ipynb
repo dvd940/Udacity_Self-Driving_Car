{
 "cells": [
  {
   "cell_type": "markdown",
   "metadata": {},
   "source": [
    "### Determing whic orientations perform better.\n",
    "\n",
    "In this notebook, I will determine which orientations perform better. LUV color space is used & hog_channels = 'ALL'. All other feature extraction parameters are unchanged."
   ]
  },
  {
   "cell_type": "code",
   "execution_count": 1,
   "metadata": {
    "collapsed": true
   },
   "outputs": [],
   "source": [
    "from sklearn.preprocessing import StandardScaler\n",
    "from sklearn.model_selection import train_test_split\n",
    "from skimage.feature import hog\n",
    "import time\n",
    "from sklearn.svm import LinearSVC\n",
    "import numpy as np\n",
    "\n",
    "from project_modules.feature_extraction import *\n",
    "from project_modules.model import *\n",
    "\n",
    "%matplotlib inline\n",
    "%load_ext autoreload\n",
    "%autoreload 2"
   ]
  },
  {
   "cell_type": "code",
   "execution_count": 2,
   "metadata": {
    "collapsed": true
   },
   "outputs": [],
   "source": [
    "# Parameters for feature extraction\n",
    "color_space = 'LUV'\n",
    "pix_per_cell = 8 # HOG pixels per cell\n",
    "cell_per_block = 2 # HOG cells per block\n",
    "hog_channel = 'ALL'\n",
    "spatial_size = (16, 16) # Spatial binning dimensions\n",
    "hist_bins = 16    # Number of histogram bins\n",
    "spatial_feat = True # Spatial features on or off\n",
    "hist_feat = True # Histogram features on or off\n",
    "hog_feat = True # HOG features on or off\n",
    "y_start_stop = [480, None] # Min and max in y to search in slide_window()\n",
    "\n",
    "cars, notcars = get_train_data()"
   ]
  },
  {
   "cell_type": "code",
   "execution_count": 3,
   "metadata": {
    "scrolled": false
   },
   "outputs": [
    {
     "name": "stdout",
     "output_type": "stream",
     "text": [
      "Extracting features for orient: 6\n",
      "92.89 Seconds to extract features...\n",
      "Starting model training\n",
      "\n",
      "44.16 Seconds to train SVC...\n",
      "LUV: 0.9816 (0.0022)\n",
      "\n",
      "=====\n",
      "\n",
      "Extracting features for orient: 9\n",
      "117.37 Seconds to extract features...\n",
      "Starting model training\n",
      "\n",
      "73.4 Seconds to train SVC...\n",
      "LUV: 0.9802 (0.0029)\n",
      "\n",
      "=====\n",
      "\n",
      "Extracting features for orient: 10\n",
      "105.53 Seconds to extract features...\n",
      "Starting model training\n",
      "\n",
      "75.59 Seconds to train SVC...\n",
      "LUV: 0.9825 (0.0033)\n",
      "\n",
      "=====\n",
      "\n",
      "Extracting features for orient: 12\n",
      "108.97 Seconds to extract features...\n",
      "Starting model training\n",
      "\n",
      "93.69 Seconds to train SVC...\n",
      "LUV: 0.9834 (0.0016)\n",
      "\n",
      "=====\n",
      "\n"
     ]
    }
   ],
   "source": [
    "orient_values = [6, 9, 10, 12]\n",
    "results=[]\n",
    "orient_value_name = []\n",
    "\n",
    "for orient in orient_values:\n",
    "    t=time.time()\n",
    "    print('Extracting features for orient: {}'.format(orient))\n",
    "    car_features = extract_features(cars, color_space=color_space, \n",
    "                        spatial_size=spatial_size, hist_bins=hist_bins, \n",
    "                        orient=orient, pix_per_cell=pix_per_cell, \n",
    "                        cell_per_block=cell_per_block, \n",
    "                        hog_channel=hog_channel, spatial_feat=spatial_feat, \n",
    "                        hist_feat=hist_feat, hog_feat=hog_feat)\n",
    "    notcar_features = extract_features(notcars, color_space=color_space, \n",
    "                            spatial_size=spatial_size, hist_bins=hist_bins, \n",
    "                            orient=orient, pix_per_cell=pix_per_cell, \n",
    "                            cell_per_block=cell_per_block, \n",
    "                            hog_channel=hog_channel, spatial_feat=spatial_feat, \n",
    "                            hist_feat=hist_feat, hog_feat=hog_feat)\n",
    "\n",
    "    X = np.vstack((car_features, notcar_features)).astype(np.float64)\n",
    "    y = np.hstack((np.ones(len(car_features)), np.zeros(len(notcar_features))))\n",
    "    t2 = time.time()\n",
    "    print(round(t2-t, 2), 'Seconds to extract features...\\nStarting model training\\n')\n",
    "    rand_state = np.random.randint(0, 100)\n",
    "    X_train, X_test, y_train, y_test = train_test_split(X, y, test_size=0.2, random_state=rand_state)\n",
    "\n",
    "    t=time.time()\n",
    "    svc_scores = svc_model(X_train, y_train)\n",
    "    t2 = time.time()\n",
    "    print(round(t2-t, 2), 'Seconds to train SVC...')\n",
    "    msg = '{}: {:.4f} ({:.4f})\\n'.format(color_space, svc_scores.mean(), svc_scores.std())\n",
    "    print(msg)\n",
    "    print('=====\\n')\n",
    "    results.append(svc_scores)\n",
    "    orient_value_name.append(orient)\n",
    "\n"
   ]
  },
  {
   "cell_type": "code",
   "execution_count": 5,
   "metadata": {},
   "outputs": [
    {
     "data": {
      "image/png": "[encoded data removed]",
      "text/plain": [
       "<matplotlib.figure.Figure at 0x1efdb7518d0>"
      ]
     },
     "metadata": {},
     "output_type": "display_data"
    }
   ],
   "source": [
    "# Compare Color Spaces\n",
    "import matplotlib.pyplot as plt\n",
    "fig = plt.figure(figsize=(12,8))\n",
    "fig.suptitle('Hog Channel Accuracy Score Comparison')\n",
    "ax = fig.add_subplot(111)\n",
    "plt.boxplot(results)\n",
    "ax.set_xticklabels(orient_value_name)\n",
    "plt.show()"
   ]
  },
  {
   "cell_type": "markdown",
   "metadata": {},
   "source": [
    "Based on these results, I will investigate the LUV color space using 12 orients further."
   ]
  },
  {
   "cell_type": "code",
   "execution_count": null,
   "metadata": {
    "collapsed": true
   },
   "outputs": [],
   "source": []
  }
 ],
 "metadata": {
  "kernelspec": {
   "display_name": "carnd-term1",
   "language": "python",
   "name": "carnd-term1"
  },
  "language_info": {
   "codemirror_mode": {
    "name": "ipython",
    "version": 3
   },
   "file_extension": ".py",
   "mimetype": "text/x-python",
   "name": "python",
   "nbconvert_exporter": "python",
   "pygments_lexer": "ipython3",
   "version": "3.5.2"
  }
 },
 "nbformat": 4,
 "nbformat_minor": 2
}
